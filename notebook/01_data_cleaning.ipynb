{
 "cells": [
  {
   "cell_type": "code",
   "execution_count": 2,
   "id": "63164872",
   "metadata": {},
   "outputs": [],
   "source": [
    "train_folder = \"../data/Training\"\n",
    "test_folder = \"../data/Testing\""
   ]
  },
  {
   "cell_type": "code",
   "execution_count": 3,
   "id": "fee0ddc5",
   "metadata": {},
   "outputs": [],
   "source": [
    "import os\n",
    "import cv2\n",
    "import random"
   ]
  },
  {
   "cell_type": "code",
   "execution_count": 4,
   "id": "9d38e9ae",
   "metadata": {},
   "outputs": [],
   "source": [
    "# read the dataset\n",
    "sub_folders = [f for f in os.listdir(train_folder) if os.path.isdir(os.path.join(train_folder, f))]\n",
    "\n",
    "# Get images grouped by folder\n",
    "folder_images = {}\n",
    "for folder in sub_folders:\n",
    "    path = os.path.join(train_folder, folder)\n",
    "    images = [os.path.join(path, img) for img in os.listdir(path) \n",
    "              if img.endswith(('.jpg', '.png', '.webp'))]\n",
    "    random.shuffle(images)  # Shuffle images within each folder\n",
    "    folder_images[folder] = images"
   ]
  },
  {
   "cell_type": "code",
   "execution_count": null,
   "id": "8c517e4e",
   "metadata": {},
   "outputs": [],
   "source": [
    "main_folder = r'/kaggle/input/brain-tumor-mri-dataset/Training'\n",
    "subfolders = [f for f in os.listdir(main_folder) if os.path.isdir(os.path.join(main_folder, f))]\n",
    "\n",
    "# Get images grouped by folder\n",
    "folder_images = {}\n",
    "for folder in subfolders:\n",
    "    path = os.path.join(main_folder, folder)\n",
    "    images = [os.path.join(path, img) for img in os.listdir(path) \n",
    "              if img.endswith(('.jpg', '.png', '.webp'))]\n",
    "    random.shuffle(images)  # Shuffle images within each folder\n",
    "    folder_images[folder] = images\n",
    "\n",
    "# Round-robin selection\n",
    "selected_images = []\n",
    "folder_cycle = cycle(subfolders)  # Infinite loop through folders\n",
    "while len(selected_images) < 16:\n",
    "    folder = next(folder_cycle)\n",
    "    if folder_images[folder]:  # If folder still has images\n",
    "        selected_images.append(folder_images[folder].pop())\n",
    "\n",
    "# Plot them\n",
    "plt.figure(figsize=(12, 12))\n",
    "for i, img_path in enumerate(selected_images):\n",
    "    img = cv2.imread(img_path)\n",
    "    if img is None:\n",
    "        continue\n",
    "    img = cv2.cvtColor(img, cv2.COLOR_BGR2RGB)\n",
    "    plt.subplot(4, 4, i + 1)\n",
    "    plt.imshow(img, cmap='gray')\n",
    "    plt.axis('off')\n",
    "    plt.title(os.path.basename(os.path.dirname(img_path)))  # Show folder name\n",
    "plt.tight_layout()\n",
    "plt.show()"
   ]
  }
 ],
 "metadata": {
  "kernelspec": {
   "display_name": "Python 3",
   "language": "python",
   "name": "python3"
  },
  "language_info": {
   "codemirror_mode": {
    "name": "ipython",
    "version": 3
   },
   "file_extension": ".py",
   "mimetype": "text/x-python",
   "name": "python",
   "nbconvert_exporter": "python",
   "pygments_lexer": "ipython3",
   "version": "3.10.0"
  }
 },
 "nbformat": 4,
 "nbformat_minor": 5
}
